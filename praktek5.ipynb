{
  "nbformat": 4,
  "nbformat_minor": 0,
  "metadata": {
    "colab": {
      "provenance": [],
      "authorship_tag": "ABX9TyPQFl0QLCMw7JYquFq8AIA+",
      "include_colab_link": true
    },
    "kernelspec": {
      "name": "python3",
      "display_name": "Python 3"
    },
    "language_info": {
      "name": "python"
    }
  },
  "cells": [
    {
      "cell_type": "markdown",
      "metadata": {
        "id": "view-in-github",
        "colab_type": "text"
      },
      "source": [
        "<a href=\"https://colab.research.google.com/github/cikameiliaa/praktikum_ddp/blob/main/praktek5.ipynb\" target=\"_parent\"><img src=\"https://colab.research.google.com/assets/colab-badge.svg\" alt=\"Open In Colab\"/></a>"
      ]
    },
    {
      "cell_type": "code",
      "execution_count": null,
      "metadata": {
        "colab": {
          "base_uri": "https://localhost:8080/"
        },
        "id": "OBX28Q4nXGcA",
        "outputId": "b9041b30-f92f-47f7-ab42-1c385a95c8a8"
      },
      "outputs": [
        {
          "output_type": "stream",
          "name": "stdout",
          "text": [
            "b 4030 rfs\n",
            "beat\n",
            "honda\n",
            "motor matic\n",
            "150\n",
            "black\n",
            "30 juta\n",
            "2 roda\n"
          ]
        }
      ],
      "source": [
        "kendaraan =[\"b 4030 rfs\",\"beat\",\"150\",\"black\"]\n",
        "kendaraan.append(\"30 juta\")\n",
        "kendaraan.append(\"2 roda\")\n",
        "kendaraan.insert(2,\"honda\")\n",
        "kendaraan.insert(3,\"motor matic\")\n",
        "print(kendaraan [0])\n",
        "print(kendaraan [1])\n",
        "print(kendaraan [2])\n",
        "print(kendaraan [3])\n",
        "print(kendaraan [4])\n",
        "print(kendaraan [5])\n",
        "print(kendaraan [6])\n",
        "print(kendaraan [7])"
      ]
    },
    {
      "cell_type": "code",
      "source": [
        "from google.colab import drive\n",
        "drive.mount('/content/drive')"
      ],
      "metadata": {
        "id": "j5I6eIqKoi_Z"
      },
      "execution_count": null,
      "outputs": []
    },
    {
      "cell_type": "code",
      "source": [
        "ket='''silahkan pilih rumus luas di bawah ini\n",
        "silahkan pilih\n",
        "se'1'\n",
        "1.untuk menghitung luas persegi\n",
        "2.untuk menghitung luas lingkaran\n",
        "3.untuk menghitung luas segitiga\n",
        "'''\n",
        "\n",
        "pilihan = input(ket)\n",
        "match pilihan:\n",
        "   case '1':\n",
        "      print (\"memilih rumus 1 untuk menghitung luas persegi\")\n",
        "      sisi = int(input('masukan sisi?'))\n",
        "      luas = sisi * sisi\n",
        "      print (\"luas persegi yang sisinya\")\n",
        "   case '2':\n",
        "      print ('memilih rumus 2 untuk menghitung luas lingkaran')\n",
        "      jari2 = float(input (\"masukan jari2 ?\"))\n",
        "      luasL = 3.14 * jari2 * jari2\n",
        "      print ('luas lingkaran yang jari2nya')\n",
        "   case '3':\n",
        "      print ('memilih rumus 3 untuk menghitung luas segitiga')\n",
        "      alas = int(input (\"masukan alas ?\"))\n",
        "      tinggi = int(input (\"masukan tinggi ?\"))\n",
        "      luas  = 0.5 * alas * tinggi\n",
        "      print (\"luas segitiga yang alasnya\", alas, \"tinggi\", tinggi, \"adalah\", luas)\n",
        "   case _ :\n",
        "      print (\"salah memilih pilihan\")"
      ],
      "metadata": {
        "id": "prw3L2gNv1Lx"
      },
      "execution_count": null,
      "outputs": []
    }
  ]
}